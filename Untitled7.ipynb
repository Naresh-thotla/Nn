{
 "cells": [
  {
   "cell_type": "code",
   "execution_count": 1,
   "metadata": {
    "collapsed": false
   },
   "outputs": [
    {
     "name": "stdout",
     "output_type": "stream",
     "text": [
      "Houselisting-housing-Andaman.html\n",
      "Houselisting-housing-HARYANA.html\n",
      "Houselisting-housing-NAGALAND.html\n",
      "Houselisting-housing-AP.html\n",
      "Houselisting-housing-Himachal_Pradesh.html\n",
      "Houselisting-housing-OR.html\n",
      "Houselisting-housing-Aurnachal_Pradesh.html\n",
      "Houselisting-housing-Jamu_&kasmir.html\n",
      "Houselisting-housing-PUDUCHERRY.html\n",
      "Houselisting-housing-Assam.html\n",
      "Houselisting-housing-JK.html\n",
      "Houselisting-housing-PUNJAB.html\n",
      "Houselisting-housing-BR.html\n",
      "Houselisting-housing-Kar.html\n",
      "Houselisting-housing-RJ.html\n",
      "Houselisting-housing-Chandighra.html\n",
      "Houselisting-housing-Kerl.html\n",
      "Houselisting-housing-SK.html\n",
      "Houselisting-housing-Chatisghra.html\n",
      "Houselisting-housing-Lakshadweep.html\n",
      "Houselisting-housing-TM.html\n",
      "Houselisting-housing-Dadra_&_Nagar_Haveli.html\n",
      "Houselisting-housing-MP.html\n",
      "Houselisting-housing-TRIPURA.html\n",
      "Houselisting-housing-DAMAN_&_DIU.html\n",
      "Houselisting-housing-Maha.html\n",
      "Houselisting-housing-UP.html\n",
      "Houselisting-housing-Delhi.html\n",
      "Houselisting-housing-MANIPUR.html\n",
      "Houselisting-housing-UK.html\n",
      "Houselisting-housing-Goa.html\n",
      "Houselisting-housing-MEGHALAYA.html\n",
      "Houselisting-housing-WB.html\n",
      "Houselisting-housing-Gujarat.html\n",
      "Houselisting-housing-MIZORAM.html\n",
      "http://www.censusindia.gov.in/2011-Documents/PCA_HL_2011_Release.xls\n",
      "Downloading http://www.censusindia.gov.in/2011-Documents/PCA_HL_2011_Release.xls to E:\\census\\25052017\\PCA_HL_2011_Release.xls...\n"
     ]
    },
    {
     "ename": "FileNotFoundError",
     "evalue": "[Errno 2] No such file or directory: 'E:\\\\census\\\\25052017\\\\PCA_HL_2011_Release.xls'",
     "output_type": "error",
     "traceback": [
      "\u001b[0;31m---------------------------------------------------------------------------\u001b[0m",
      "\u001b[0;31mFileNotFoundError\u001b[0m                         Traceback (most recent call last)",
      "\u001b[0;32m<ipython-input-1-c41dec64035b>\u001b[0m in \u001b[0;36m<module>\u001b[0;34m()\u001b[0m\n\u001b[1;32m     26\u001b[0m \u001b[1;33m\u001b[0m\u001b[0m\n\u001b[1;32m     27\u001b[0m         \u001b[0mprint\u001b[0m\u001b[1;33m(\u001b[0m\u001b[1;34m\"Downloading %s to %s...\"\u001b[0m \u001b[1;33m%\u001b[0m \u001b[1;33m(\u001b[0m \u001b[0msad\u001b[0m\u001b[1;33m,\u001b[0m \u001b[0mfilename\u001b[0m\u001b[1;33m)\u001b[0m \u001b[1;33m)\u001b[0m\u001b[1;33m\u001b[0m\u001b[0m\n\u001b[0;32m---> 28\u001b[0;31m         \u001b[0murlretrieve\u001b[0m\u001b[1;33m(\u001b[0m\u001b[0msad\u001b[0m\u001b[1;33m,\u001b[0m \u001b[0mfilename\u001b[0m\u001b[1;33m)\u001b[0m\u001b[1;33m\u001b[0m\u001b[0m\n\u001b[0m\u001b[1;32m     29\u001b[0m     \u001b[1;32mif\u001b[0m \u001b[0many\u001b[0m\u001b[1;33m(\u001b[0m\u001b[0msad\u001b[0m\u001b[1;33m.\u001b[0m\u001b[0mendswith\u001b[0m\u001b[1;33m(\u001b[0m\u001b[0mx\u001b[0m\u001b[1;33m)\u001b[0m \u001b[1;32mfor\u001b[0m \u001b[0mx\u001b[0m \u001b[1;32min\u001b[0m \u001b[1;33m[\u001b[0m\u001b[1;34m'.html'\u001b[0m\u001b[1;33m]\u001b[0m\u001b[1;33m)\u001b[0m\u001b[1;33m:\u001b[0m\u001b[1;33m\u001b[0m\u001b[0m\n\u001b[1;32m     30\u001b[0m          \u001b[1;31m#print (sad)\u001b[0m\u001b[1;33m\u001b[0m\u001b[1;33m\u001b[0m\u001b[0m\n",
      "\u001b[0;32mC:\\Users\\smc46\\Anaconda3\\lib\\urllib\\request.py\u001b[0m in \u001b[0;36murlretrieve\u001b[0;34m(url, filename, reporthook, data)\u001b[0m\n\u001b[1;32m    256\u001b[0m         \u001b[1;31m# Handle temporary file setup.\u001b[0m\u001b[1;33m\u001b[0m\u001b[1;33m\u001b[0m\u001b[0m\n\u001b[1;32m    257\u001b[0m         \u001b[1;32mif\u001b[0m \u001b[0mfilename\u001b[0m\u001b[1;33m:\u001b[0m\u001b[1;33m\u001b[0m\u001b[0m\n\u001b[0;32m--> 258\u001b[0;31m             \u001b[0mtfp\u001b[0m \u001b[1;33m=\u001b[0m \u001b[0mopen\u001b[0m\u001b[1;33m(\u001b[0m\u001b[0mfilename\u001b[0m\u001b[1;33m,\u001b[0m \u001b[1;34m'wb'\u001b[0m\u001b[1;33m)\u001b[0m\u001b[1;33m\u001b[0m\u001b[0m\n\u001b[0m\u001b[1;32m    259\u001b[0m         \u001b[1;32melse\u001b[0m\u001b[1;33m:\u001b[0m\u001b[1;33m\u001b[0m\u001b[0m\n\u001b[1;32m    260\u001b[0m             \u001b[0mtfp\u001b[0m \u001b[1;33m=\u001b[0m \u001b[0mtempfile\u001b[0m\u001b[1;33m.\u001b[0m\u001b[0mNamedTemporaryFile\u001b[0m\u001b[1;33m(\u001b[0m\u001b[0mdelete\u001b[0m\u001b[1;33m=\u001b[0m\u001b[1;32mFalse\u001b[0m\u001b[1;33m)\u001b[0m\u001b[1;33m\u001b[0m\u001b[0m\n",
      "\u001b[0;31mFileNotFoundError\u001b[0m: [Errno 2] No such file or directory: 'E:\\\\census\\\\25052017\\\\PCA_HL_2011_Release.xls'"
     ]
    }
   ],
   "source": [
    "import os\n",
    "from bs4 import BeautifulSoup\n",
    "# Python 3.x\n",
    "from urllib.request import urlopen, urlretrieve, quote\n",
    "from urllib.parse import urljoin\n",
    "\n",
    "# Remove the trailing / you had, as that gives a 404 page\n",
    "url = 'http://www.censusindia.gov.in/2011census/population_enumeration.html'\n",
    "OUTPUT_DIR = 'E:\\census'\n",
    "u = urlopen(url)\n",
    "try:\n",
    "    html = u.read().decode('utf-8')\n",
    "finally:\n",
    "    u.close()\n",
    "\n",
    "soup = BeautifulSoup(html, \"html.parser\")\n",
    "\n",
    "# Select all A elements with href attributes containing URLs starting with http://\n",
    "for link in soup.select('a'):\n",
    "    sad = link.get('href')\n",
    "    #print (sad)\n",
    "    if  any(sad.endswith(x) for x in ['.csv','.xls','.xlsx',]):\n",
    "        print (sad)\n",
    "        filename = os.path.join(OUTPUT_DIR, '25052017',sad.rsplit('/', 1)[-1])\n",
    "        \n",
    "        print(\"Downloading %s to %s...\" % ( sad, filename) )\n",
    "        urlretrieve(sad, filename)\n",
    "    if any(sad.endswith(x) for x in ['.html']):\n",
    "         #print (sad)\n",
    "            bad1 = urlopen(sad)\n",
    "            bad = BeautifulSoup(bad1, \"html.parser\")\n",
    "            for link in bad.select('a[href^=\"\"]'):\n",
    "                mad1=link.get('href')\n",
    "                #print (mad1)\n",
    "                sad2=sad.rsplit('/', 1)[-2]\n",
    "                #print(sad2)\n",
    "#                 if any(mad1.endswith(x) for x in ['.csv','.xls','.xlsx']):\n",
    "#                     print(mad1)\n",
    "                if any(mad1.endswith(x) for x in ['.html']):\n",
    "                    print(mad1)\n",
    "                    "
   ]
  },
  {
   "cell_type": "code",
   "execution_count": 2,
   "metadata": {
    "collapsed": false
   },
   "outputs": [],
   "source": [
    "import os\n",
    "newpath = r'C:\\Program Files\\arbitrary' \n",
    "if not os.path.exists(newpath):\n",
    "    os.makedirs(newpath)"
   ]
  },
  {
   "cell_type": "code",
   "execution_count": null,
   "metadata": {
    "collapsed": true
   },
   "outputs": [],
   "source": []
  }
 ],
 "metadata": {
  "kernelspec": {
   "display_name": "Python 3",
   "language": "python",
   "name": "python3"
  },
  "language_info": {
   "codemirror_mode": {
    "name": "ipython",
    "version": 3
   },
   "file_extension": ".py",
   "mimetype": "text/x-python",
   "name": "python",
   "nbconvert_exporter": "python",
   "pygments_lexer": "ipython3",
   "version": "3.6.0"
  }
 },
 "nbformat": 4,
 "nbformat_minor": 2
}
