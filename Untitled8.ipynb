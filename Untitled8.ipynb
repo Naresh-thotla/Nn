{
 "cells": [
  {
   "cell_type": "code",
   "execution_count": 1,
   "metadata": {
    "collapsed": false
   },
   "outputs": [
    {
     "name": "stderr",
     "output_type": "stream",
     "text": [
      "C:\\Users\\smc46\\Anaconda3\\lib\\distutils\\dist.py:261: UserWarning: Unknown distribution option: 'build_requires'\n",
      "  warnings.warn(msg)\n",
      "C:\\Users\\smc46\\Anaconda3\\lib\\site-packages\\setuptools-27.2.0-py3.6.egg\\setuptools\\dist.py:340: UserWarning: The version specified ('DEV') is an invalid version, this may not work as expected with newer versions of setuptools, pip, and PyPI. Please see PEP 440 for more details.\n"
     ]
    },
    {
     "ename": "SystemExit",
     "evalue": "usage: __main__.py [global_opts] cmd1 [cmd1_opts] [cmd2 [cmd2_opts] ...]\n   or: __main__.py --help [cmd1 cmd2 ...]\n   or: __main__.py --help-commands\n   or: __main__.py cmd --help\n\nerror: option -f not recognized",
     "output_type": "error",
     "traceback": [
      "An exception has occurred, use %tb to see the full traceback.\n",
      "\u001b[0;31mSystemExit\u001b[0m\u001b[0;31m:\u001b[0m usage: __main__.py [global_opts] cmd1 [cmd1_opts] [cmd2 [cmd2_opts] ...]\n   or: __main__.py --help [cmd1 cmd2 ...]\n   or: __main__.py --help-commands\n   or: __main__.py cmd --help\n\nerror: option -f not recognized\n"
     ]
    },
    {
     "name": "stderr",
     "output_type": "stream",
     "text": [
      "C:\\Users\\smc46\\Anaconda3\\lib\\site-packages\\IPython\\core\\interactiveshell.py:2889: UserWarning: To exit: use 'exit', 'quit', or Ctrl-D.\n",
      "  warn(\"To exit: use 'exit', 'quit', or Ctrl-D.\", stacklevel=1)\n"
     ]
    }
   ],
   "source": [
    "#!/usr/bin/env python\n",
    "# -*- coding: utf-8 -*-\n",
    "\n",
    "try:\n",
    "    from setuptools import setup\n",
    "    from setuptools.command.install import install\n",
    "except ImportError:\n",
    "    from ez_setup import use_setuptools\n",
    "    use_setuptools()\n",
    "    from setuptools import setup  # noqa\n",
    "    from setuptools.command.install import install  # noqa\n",
    "\n",
    "\n",
    "class no_install(install):\n",
    "\n",
    "    def run(self, *args, **kwargs):\n",
    "        import sys\n",
    "        sys.stderr.write(\"\"\"\n",
    "-------------------------------------------------------\n",
    "The billiard functional test suite cannot be installed.\n",
    "-------------------------------------------------------\n",
    "\n",
    "\n",
    "But you can execute the tests by running the command:\n",
    "\n",
    "    $ python setup.py test\n",
    "\n",
    "\n",
    "\"\"\")\n",
    "\n",
    "\n",
    "setup(\n",
    "    name='billiard-funtests',\n",
    "    version='DEV',\n",
    "    description='Functional test suite for billiard',\n",
    "    author='Ask Solem',\n",
    "    author_email='ask@celeryproject.org',\n",
    "    url='http://github.com/celery/billiard',\n",
    "    platforms=['any'],\n",
    "    packages=[],\n",
    "    data_files=[],\n",
    "    zip_safe=False,\n",
    "    cmdclass={'install': no_install},\n",
    "    test_suite='nose.collector',\n",
    "    build_requires=[\n",
    "        'nose',\n",
    "        'unittest2',\n",
    "        'coverage>=3.0',\n",
    "    ],\n",
    "    classifiers=[\n",
    "        'Operating System :: OS Independent',\n",
    "        'Programming Language :: Python',\n",
    "        'Programming Language :: C'\n",
    "        'License :: OSI Approved :: BSD License',\n",
    "        'Intended Audience :: Developers',\n",
    "    ],\n",
    "    long_description='Do not install this package',\n",
    ")"
   ]
  },
  {
   "cell_type": "code",
   "execution_count": 27,
   "metadata": {
    "collapsed": false
   },
   "outputs": [
    {
     "name": "stdout",
     "output_type": "stream",
     "text": [
      "\n",
      "Blocked! Condemned to an existential wasteland of Trumplessness!\n",
      "\n",
      "\n",
      "Have others received a notification of being blocked from Trump's tweets, or is it a hoax? It's not as if his tweets are hard to find!\n",
      "\n",
      "\n",
      "Trump has blocked me from reading his tweets. I may have to kill myself.\n",
      "\n",
      "\n",
      "Trump's cabinet offers a postgraduate-level course in ass-kissing.\n",
      "\n",
      "\n",
      "THE MIST TV series premieres on Spike, June 22nd. You might want to mark it on your calendar. It's really good.\n",
      "\n",
      "\n",
      "If Ivanka Trump had grown up in farm country, like some of us, she'd know her father is reaping exactly what he sowed.\n",
      "\n",
      "\n",
      "Come see us in Newton, courtesy of one of my favorite bookstores in the whole world, @newtonvillebks.https://twitter.com/newtonvillebks/status/874318842310389760 …\n",
      "\n",
      "\n",
      "And speaking of the Ramones...https://youtu.be/VqGPTFZ-fxM \n",
      "\n",
      "\n",
      "Not the best Ramones song, but the best Ramones title: \"Every time I Eat Vegetables (I Think of You)\"\n",
      "\n",
      "\n",
      "Can we have Obama back? Please?\n",
      "\n",
      "\n",
      "After listening to Comey today and Trump for last 4 and a half months, I have a clear opinion on which one is the actual \"nut job.\"\n",
      "\n",
      "\n",
      "I woke up this morning with \"Back Off Boogaloo\" in my head. It's been there all day.Horrible. I fear I may have been possessed by a demon.\n",
      "\n",
      "\n",
      "Our idiotic president seems to have confused what's \"politically correct\" with what is \"unconstitutional.\"\n",
      "\n",
      "\n",
      "I go forward for the Tower, and I will accept no prisoners! #DarkTowerMoviepic.twitter.com/SDq82rNbqQ\n",
      "\n",
      "\n",
      "Molly, aka the Thing of Evil, rests after another tiring day of doing bad shit.pic.twitter.com/uKKHLSzSnk\n",
      "\n",
      "\n",
      "If those London assholes had had guns, the death toll would have been much higher.\n",
      "\n",
      "\n",
      "London lives. And thrives. And stands together. I love you guys. We all do.\n",
      "\n",
      "\n",
      "Covfefe is from THE NECRONOMICON, and actually means \"Hail Cuthulu!\"\n",
      "\n",
      "\n",
      "Very much enjoying the German press at the moment. \"Earth to Trump...\"pic.twitter.com/sPqkUPYVlw\n",
      "\n",
      "\n",
      "Godiva sent me a box of chocolates. That's livin' large, when you have choclates on your coffee table.\n",
      "\n"
     ]
    }
   ],
   "source": [
    "import os\n",
    "from bs4 import BeautifulSoup\n",
    "# Python 3.x\n",
    "from urllib.request import urlopen, urlretrieve, quote\n",
    "from urllib.parse import urljoin\n",
    "\n",
    "# Remove the trailing / you had, as that gives a 404 page\n",
    "url = 'https://twitter.com/StephenKing'\n",
    "OUTPUT_DIR = 'E:\\25052017'\n",
    "u = urlopen(url)\n",
    "try:\n",
    "    html = u.read().decode('utf-8')\n",
    "finally:\n",
    "    u.close()\n",
    "\n",
    "soup = BeautifulSoup(html, \"html.parser\")\n",
    "\n",
    "# for ab in soup.find_all('span',{'class':\"FullNameGroup\"}):\n",
    "#     print (ab.text)\n",
    "# Select all A elements with href attributes containing URLs starting with http://\n",
    "for aa in soup.find_all('div',{'class':\"js-tweet-text-container\"}):\n",
    "# for aa in soup.find_all('div',{'class':\"stream-item-header\"}):\n",
    "    print (aa.text)\n",
    "# # for nn in aa.find('p'):\n",
    "#     print(nn)"
   ]
  },
  {
   "cell_type": "code",
   "execution_count": null,
   "metadata": {
    "collapsed": true
   },
   "outputs": [],
   "source": []
  }
 ],
 "metadata": {
  "kernelspec": {
   "display_name": "Python 3",
   "language": "python",
   "name": "python3"
  },
  "language_info": {
   "codemirror_mode": {
    "name": "ipython",
    "version": 3
   },
   "file_extension": ".py",
   "mimetype": "text/x-python",
   "name": "python",
   "nbconvert_exporter": "python",
   "pygments_lexer": "ipython3",
   "version": "3.6.0"
  }
 },
 "nbformat": 4,
 "nbformat_minor": 2
}
