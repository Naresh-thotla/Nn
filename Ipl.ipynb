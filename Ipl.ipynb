{
 "cells": [
  {
   "cell_type": "code",
   "execution_count": null,
   "metadata": {
    "collapsed": true
   },
   "outputs": [],
   "source": [
    "import os\n",
    "from bs4 import BeautifulSoup\n",
    "import pandas as pd\n",
    "import csv\n",
    "import unidecode\n",
    "# Python 3.x\n",
    "from urllib.request import urlopen, urlretrieve, quote\n",
    "from urllib.parse import urljoin\n",
    "writefile ='nar.csv'\n",
    "blueb = open(writefile, 'w')\n",
    "writer = csv.writer(blueb)\n",
    "# writer.writerow([\"field1\",\"field2\",\"field3\",\"field4\",\"field5\",\"field6\"])\n",
    "\n",
    "\n",
    "# Remove the trailing / you had, as that gives a 404 page\n",
    "url = 'http://www.iplt20.com/stats/2017'\n",
    "\n",
    "u = urlopen(url)\n",
    "\n",
    "try:\n",
    "    html = u.read().decode('utf-8')\n",
    "finally:\n",
    "    u.close()\n",
    "soup1 = BeautifulSoup(html, \"html.parser\")\n",
    "for soup2 in soup1.find_all('table'):\n",
    "#     print (soup2)\n",
    "    n1=[(naresh.text)for naresh in soup2.find_all('th')]\n",
    "#         n1=[(naresh.text)]\n",
    "    print (n1)\n",
    "#     df=pd.DataFrame({\"Team\":n1})\n",
    "#     print (df)\n",
    "    count=0\n",
    "   \n",
    "        \n",
    "    for naresh1 in soup2.find_all('th'):      \n",
    "        print(naresh1.text)\n",
    "        count=count+1\n",
    "#         print (count)\n",
    "        if(count==4 or (count%12)==4):\n",
    "            n2=[(naresh1.text) for naresh1 in soup2.find_all('td',{'class':\"standings-table__optional\"})]\n",
    "            print(n2)\n",
    "    \n",
    "    \n",
    "        final=pd.DataFrame({\"team\":n1,\"Pld\":n2})\n",
    "        print(final)   \n",
    "            \n",
    "#         for aa in naresh2:\n",
    "#             print (aa)\n",
    "\n",
    "# aaa=soup1.find('table',{'class':\"standings-table table table--scroll-on-phablet \"})\n",
    "# print (aaa)\n",
    "# for naresh in soup1.find_all('table'):\n",
    "#     for aa in naresh.find_all('th'):\n",
    "#         print(aa.text)\n",
    "# #     count=0\n",
    "#     for td in aa:\n",
    "#         count=count+1\n",
    "#         print(td.text)\n",
    "#         print(count)\n",
    "# # for ab in naresh.find_all('a'):\n",
    "#     print(ab.text)\n",
    "\n",
    "    \n",
    "\n",
    "    "
   ]
  },
  {
   "cell_type": "code",
   "execution_count": null,
   "metadata": {
    "collapsed": true
   },
   "outputs": [],
   "source": [
    "a=int(input(\"enter\"))"
   ]
  },
  {
   "cell_type": "code",
   "execution_count": 59,
   "metadata": {
    "collapsed": false
   },
   "outputs": [
    {
     "ename": "NameError",
     "evalue": "name '__dir__' is not defined",
     "output_type": "error",
     "traceback": [
      "\u001b[0;31m---------------------------------------------------------------------------\u001b[0m",
      "\u001b[0;31mNameError\u001b[0m                                 Traceback (most recent call last)",
      "\u001b[0;32m<ipython-input-59-aff3f26a685f>\u001b[0m in \u001b[0;36m<module>\u001b[0;34m()\u001b[0m\n\u001b[0;32m----> 1\u001b[0;31m \u001b[0mdir\u001b[0m\u001b[1;33m(\u001b[0m\u001b[0m__dir__\u001b[0m\u001b[1;33m)\u001b[0m\u001b[1;33m\u001b[0m\u001b[0m\n\u001b[0m",
      "\u001b[0;31mNameError\u001b[0m: name '__dir__' is not defined"
     ]
    }
   ],
   "source": [
    "dir(__builtins__)"
   ]
  },
  {
   "cell_type": "code",
   "execution_count": 10,
   "metadata": {
    "collapsed": false
   },
   "outputs": [
    {
     "ename": "ModuleNotFoundError",
     "evalue": "No module named 'TableParser'",
     "output_type": "error",
     "traceback": [
      "\u001b[0;31m---------------------------------------------------------------------------\u001b[0m",
      "\u001b[0;31mModuleNotFoundError\u001b[0m                       Traceback (most recent call last)",
      "\u001b[0;32m<ipython-input-10-85b240f6d4ee>\u001b[0m in \u001b[0;36m<module>\u001b[0;34m()\u001b[0m\n\u001b[1;32m      1\u001b[0m \u001b[1;32mfrom\u001b[0m \u001b[0murllib\u001b[0m\u001b[1;33m.\u001b[0m\u001b[0mrequest\u001b[0m \u001b[1;32mimport\u001b[0m \u001b[0mRequest\u001b[0m\u001b[1;33m,\u001b[0m \u001b[0murlopen\u001b[0m\u001b[1;33m,\u001b[0m \u001b[0mURLError\u001b[0m\u001b[1;33m\u001b[0m\u001b[0m\n\u001b[0;32m----> 2\u001b[0;31m \u001b[1;32mfrom\u001b[0m \u001b[0mTableParser\u001b[0m \u001b[1;32mimport\u001b[0m \u001b[0mTableParser\u001b[0m\u001b[1;33m\u001b[0m\u001b[0m\n\u001b[0m\u001b[1;32m      3\u001b[0m \u001b[0murl_addr\u001b[0m \u001b[1;33m=\u001b[0m\u001b[1;34m'http://www.iplt20.com/stats/2017'\u001b[0m\u001b[1;33m\u001b[0m\u001b[0m\n\u001b[1;32m      4\u001b[0m \u001b[0mreq\u001b[0m \u001b[1;33m=\u001b[0m \u001b[0mRequest\u001b[0m\u001b[1;33m(\u001b[0m\u001b[0murl_addr\u001b[0m\u001b[1;33m)\u001b[0m\u001b[1;33m\u001b[0m\u001b[0m\n\u001b[1;32m      5\u001b[0m \u001b[0murl\u001b[0m \u001b[1;33m=\u001b[0m \u001b[0murlopen\u001b[0m\u001b[1;33m(\u001b[0m\u001b[0mreq\u001b[0m\u001b[1;33m)\u001b[0m\u001b[1;33m\u001b[0m\u001b[0m\n",
      "\u001b[0;31mModuleNotFoundError\u001b[0m: No module named 'TableParser'"
     ]
    }
   ],
   "source": [
    "from urllib.request import Request, urlopen, URLError\n",
    "from TableParser import TableParser\n",
    "url_addr ='http://www.iplt20.com/stats/2017'\n",
    "req = Request(url_addr)\n",
    "url = urlopen(req)\n",
    "tp = TableParser()\n",
    "tp.feed(url.read())\n",
    "\n",
    "# NOTE: Here you need to know exactly how many tables are on the page and which one\n",
    "# you want. Let's say it's the first table\n",
    "my_table = tp.get_tables()[0]\n",
    "filename = 'table_as_csv.csv'\n",
    "f = open(filename, 'wb')\n",
    "with f:\n",
    "    writer = csv.writer(f)\n",
    "    for row in table:\n",
    "        writer.writerow(row)"
   ]
  },
  {
   "cell_type": "code",
   "execution_count": 240,
   "metadata": {
    "collapsed": false
   },
   "outputs": [],
   "source": [
    "import os\n",
    "from bs4 import BeautifulSoup\n",
    "import pandas as pd\n",
    "import csv\n",
    "import unidecode\n",
    "# Python 3.x\n",
    "from urllib.request import urlopen, urlretrieve, quote\n",
    "from urllib.parse import urljoin\n",
    "# writefile ='nar.csv'\n",
    "# blueb = open(writefile, 'w')\n",
    "# writer = csv.writer(blueb)\n",
    "# # writer.writerow([\"field1\",\"field2\",\"field3\",\"field4\",\"field5\",\"field6\"])\n",
    "\n",
    "\n",
    "# Remove the trailing / you had, as that gives a 404 page\n",
    "url = 'http://browser.ihtsdotools.org/?perspective=full&conceptId1=138875005&edition=uk-edition&release=v20170401&server=https://prod-browser-exten.ihtsdotools.org/api/snomed&langRefset=900000000000508004'\n",
    "\n",
    "u = urlopen(url)\n",
    "try:\n",
    "    html = u.read().decode('utf-8')\n",
    "finally:\n",
    "    u.close()\n",
    "soup1 = BeautifulSoup(html, \"html.parser\")\n",
    "\n",
    "# aaa=soup1.find('table',{'class':\"treeLabel selectable-row})\n",
    "# print (aaa)\n",
    "for naresh in soup1.find_all('li',{'class':\"treeLabel\"}):\n",
    "    print(naresh)\n",
    "#     for n2 in naresh.find_all('li'):\n",
    "#         print(n2)\n",
    "    \n",
    "#     print(naresh.get('href'))"
   ]
  },
  {
   "cell_type": "code",
   "execution_count": 239,
   "metadata": {
    "collapsed": false
   },
   "outputs": [
    {
     "ename": "FeatureNotFound",
     "evalue": "Couldn't find a tree builder with the features you requested: html5lib. Do you need to install a parser library?",
     "output_type": "error",
     "traceback": [
      "\u001b[0;31m---------------------------------------------------------------------------\u001b[0m",
      "\u001b[0;31mFeatureNotFound\u001b[0m                           Traceback (most recent call last)",
      "\u001b[0;32m<ipython-input-239-a9dcbdca3d49>\u001b[0m in \u001b[0;36m<module>\u001b[0;34m()\u001b[0m\n\u001b[1;32m      6\u001b[0m \u001b[1;33m\u001b[0m\u001b[0m\n\u001b[1;32m      7\u001b[0m \u001b[1;33m\u001b[0m\u001b[0m\n\u001b[0;32m----> 8\u001b[0;31m \u001b[0msoup\u001b[0m \u001b[1;33m=\u001b[0m \u001b[0mBeautifulSoup\u001b[0m\u001b[1;33m(\u001b[0m\u001b[0mreq\u001b[0m\u001b[1;33m.\u001b[0m\u001b[0mcontent\u001b[0m\u001b[1;33m,\u001b[0m\u001b[1;34m\"html5lib\"\u001b[0m\u001b[1;33m)\u001b[0m\u001b[1;33m\u001b[0m\u001b[0m\n\u001b[0m\u001b[1;32m      9\u001b[0m \u001b[0mall_tables\u001b[0m\u001b[1;33m=\u001b[0m\u001b[0msoup\u001b[0m\u001b[1;33m.\u001b[0m\u001b[0mfind_all\u001b[0m\u001b[1;33m(\u001b[0m\u001b[1;34m'table'\u001b[0m\u001b[1;33m)\u001b[0m\u001b[1;33m\u001b[0m\u001b[0m\n\u001b[1;32m     10\u001b[0m \u001b[0mprint\u001b[0m\u001b[1;33m(\u001b[0m\u001b[0mall_tables\u001b[0m\u001b[1;33m)\u001b[0m\u001b[1;33m\u001b[0m\u001b[0m\n",
      "\u001b[0;32mC:\\Users\\smc46\\Anaconda3\\lib\\site-packages\\bs4\\__init__.py\u001b[0m in \u001b[0;36m__init__\u001b[0;34m(self, markup, features, builder, parse_only, from_encoding, exclude_encodings, **kwargs)\u001b[0m\n\u001b[1;32m    154\u001b[0m                     \u001b[1;34m\"Couldn't find a tree builder with the features you \"\u001b[0m\u001b[1;33m\u001b[0m\u001b[0m\n\u001b[1;32m    155\u001b[0m                     \u001b[1;34m\"requested: %s. Do you need to install a parser library?\"\u001b[0m\u001b[1;33m\u001b[0m\u001b[0m\n\u001b[0;32m--> 156\u001b[0;31m                     % \",\".join(features))\n\u001b[0m\u001b[1;32m    157\u001b[0m             \u001b[0mbuilder\u001b[0m \u001b[1;33m=\u001b[0m \u001b[0mbuilder_class\u001b[0m\u001b[1;33m(\u001b[0m\u001b[1;33m)\u001b[0m\u001b[1;33m\u001b[0m\u001b[0m\n\u001b[1;32m    158\u001b[0m             if not (original_features == builder.NAME or\n",
      "\u001b[0;31mFeatureNotFound\u001b[0m: Couldn't find a tree builder with the features you requested: html5lib. Do you need to install a parser library?"
     ]
    }
   ],
   "source": []
  },
  {
   "cell_type": "code",
   "execution_count": null,
   "metadata": {
    "collapsed": true
   },
   "outputs": [],
   "source": []
  }
 ],
 "metadata": {
  "kernelspec": {
   "display_name": "Python 3",
   "language": "python",
   "name": "python3"
  },
  "language_info": {
   "codemirror_mode": {
    "name": "ipython",
    "version": 3
   },
   "file_extension": ".py",
   "mimetype": "text/x-python",
   "name": "python",
   "nbconvert_exporter": "python",
   "pygments_lexer": "ipython3",
   "version": "3.6.0"
  }
 },
 "nbformat": 4,
 "nbformat_minor": 2
}
