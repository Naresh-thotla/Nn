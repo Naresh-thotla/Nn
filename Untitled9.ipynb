{
 "cells": [
  {
   "cell_type": "code",
   "execution_count": null,
   "metadata": {
    "collapsed": true
   },
   "outputs": [],
   "source": [
    "from twitter.oauth import OAuth\n",
    "import json\n",
    "import urllib2\n",
    "from twitter import *\n",
    "\n",
    "ckey = ''\n",
    "csecret = '' \n",
    "atoken = '' \n",
    "asecret = ''\n",
    "\n",
    "\n",
    "\n",
    "auth = OAuth(atoken,asecret,ckey,csecret)\n",
    "\n",
    "t_api = Twitter(auth=auth)\n",
    "\n",
    "search = t_api.search.tweets(q='http://on.fb.me',count=1)\n",
    "\n",
    "print search\n",
    "\n",
    "print 'specific data'"
   ]
  },
  {
   "cell_type": "code",
   "execution_count": 1,
   "metadata": {
    "collapsed": false
   },
   "outputs": [
    {
     "name": "stdout",
     "output_type": "stream",
     "text": [
      "[Status(ID=878795015811715072, ScreenName=StephenKing, Created=Sun Jun 25 02:00:33 +0000 2017, Text='I am an official fan of CLAWS, on TNT. Those nail salon ladies kick major ass, and some of the nail jobs are insane.'), Status(ID=878707890919538689, ScreenName=StephenKing, Created=Sat Jun 24 20:14:21 +0000 2017, Text='Republican health care bill boiled down to four words: you’re on your own.'), Status(ID=878431019904495617, ScreenName=StephenKing, Created=Sat Jun 24 01:54:10 +0000 2017, Text=\"Most TV is cafeteria food. FARGO's three seasons have been gourmet meals. I'd love one more.\"), Status(ID=878013873785155584, ScreenName=StephenKing, Created=Thu Jun 22 22:16:34 +0000 2017, Text='If you’re planning to see Idris Elba as Roland, finish it.'), Status(ID=878013708408147968, ScreenName=StephenKing, Created=Thu Jun 22 22:15:55 +0000 2017, Text='I do not shoot with my hand; he who shoots with his hand has forgotten the face of his father. I shoot with my mind.'), Status(ID=878013252453662720, ScreenName=StephenKing, Created=Thu Jun 22 22:14:06 +0000 2017, Text='I do not aim with my hand; he who aims with his hand has forgotten the face of his father. I aim with my eye.'), Status(ID=877907757008957440, ScreenName=StephenKing, Created=Thu Jun 22 15:14:54 +0000 2017, Text=\"Trump hasn't been very good at keeping his promises, but he's certainly a world-class gloater.\"), Status(ID=877907566440873985, ScreenName=StephenKing, Created=Thu Jun 22 15:14:09 +0000 2017, Text='SPIKE TV tonight, at 10 PM. The premiere. I get MISTy-eyed, just thinking about it.'), Status(ID=877205363245895680, ScreenName=StephenKing, Created=Tue Jun 20 16:43:50 +0000 2017, Text=\"Barbie's bff, Ken, now comes with a man bun or cornrows. You go with your bad self, Kenny.\"), Status(ID=876974369377067008, ScreenName=StephenKing, Created=Tue Jun 20 01:25:57 +0000 2017, Text='RT @donwinslow: You see some strange things all over the NYC Subway System these days... https://t.co/GDxLgeKRzO'), Status(ID=876829607214936064, ScreenName=StephenKing, Created=Mon Jun 19 15:50:43 +0000 2017, Text=\"RT @OwenKingwriter: Full disclosure: it's not actually the same shirt. https://t.co/k0M0hMLoTp\"), Status(ID=876829379908825088, ScreenName=StephenKing, Created=Mon Jun 19 15:49:49 +0000 2017, Text='Perfect rock for Monday.\\nhttps://t.co/FhfyEmeUZ0'), Status(ID=875529946931789824, ScreenName=StephenKing, Created=Fri Jun 16 01:46:20 +0000 2017, Text=\"I'm with you. https://t.co/pNRS29zl4R\"), Status(ID=875476431517745152, ScreenName=StephenKing, Created=Thu Jun 15 22:13:41 +0000 2017, Text=\"Trump as president is like an impulsive, hot-headed 15-year-old with an 18-wheeler trucker's license.\"), Status(ID=875448145705971712, ScreenName=StephenKing, Created=Thu Jun 15 20:21:17 +0000 2017, Text='Blocked by Donald Trump, but still I persist.'), Status(ID=875447898309132289, ScreenName=StephenKing, Created=Thu Jun 15 20:20:18 +0000 2017, Text=\"@jk_rowling @BevVincent Well, I'm not the Donald's #1 fan, so that lets out Annie Wilkes. I think he's got more of a Dementor vibe.\"), Status(ID=875098848821207042, ScreenName=StephenKing, Created=Wed Jun 14 21:13:18 +0000 2017, Text='Guns, man. When are we going to look this issue in the eye and do something about it?'), Status(ID=875098366329409537, ScreenName=StephenKing, Created=Wed Jun 14 21:11:23 +0000 2017, Text=\"RT @sluggahjells: Alexandria provides the latest conservatives' guide of blame for mass shootings. https://t.co/L08CgTzSKd\"), Status(ID=874792018207178752, ScreenName=StephenKing, Created=Wed Jun 14 00:54:04 +0000 2017, Text='Blocked! Condemned to an existential wasteland of Trumplessness!'), Status(ID=874678286152077312, ScreenName=StephenKing, Created=Tue Jun 13 17:22:08 +0000 2017, Text=\"@jk_rowling @BevVincent Thanks. Maybe it's a hoax. I'm good either way. I'll always have Pence, hahahaha.\")]\n"
     ]
    }
   ],
   "source": [
    "from __future__ import print_function\n",
    "import twitter\n",
    "\n",
    "CONSUMER_KEY = 'h4ONOu63BfRaJwY8RVmgc2ZRR'\n",
    "CONSUMER_SECRET = 'fVZPZOpt3kVJKJ1PrCatyJslUsjm6T960Pm5mIXngVKsoh8B1j'\n",
    "ACCESS_TOKEN = '1666726988-vu1fTJ5XyvRakqPT9uy3SWbuXSJ8ZgP7paAobpt'\n",
    "ACCESS_TOKEN_SECRET = 'OC4I0owAsdYZrqq9e1RISgoPhRUJJROOn8JGeKnVk9Aq6'\n",
    "\n",
    "\n",
    "# Create an Api instance.\n",
    "api = twitter.Api(consumer_key=CONSUMER_KEY,\n",
    "                 consumer_secret=CONSUMER_SECRET,\n",
    "                 access_token_key=ACCESS_TOKEN,\n",
    "                 access_token_secret=ACCESS_TOKEN_SECRET)\n",
    "\n",
    "users = api.GetUserTimeline('2233154425',[200])\n",
    "print(users)\n"
   ]
  },
  {
   "cell_type": "code",
   "execution_count": null,
   "metadata": {
    "collapsed": true
   },
   "outputs": [],
   "source": []
  }
 ],
 "metadata": {
  "kernelspec": {
   "display_name": "Python 3",
   "language": "python",
   "name": "python3"
  },
  "language_info": {
   "codemirror_mode": {
    "name": "ipython",
    "version": 3
   },
   "file_extension": ".py",
   "mimetype": "text/x-python",
   "name": "python",
   "nbconvert_exporter": "python",
   "pygments_lexer": "ipython3",
   "version": "3.6.0"
  }
 },
 "nbformat": 4,
 "nbformat_minor": 2
}
